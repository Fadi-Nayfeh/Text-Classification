{
 "cells": [
  {
   "cell_type": "code",
   "execution_count": 1,
   "metadata": {},
   "outputs": [],
   "source": [
    "import pandas as pd\n",
    "import numpy as np\n",
    "import pickle\n",
    "import joblib\n",
    "from sklearn.feature_extraction.text import TfidfVectorizer\n",
    "from sklearn.svm import SVC\n",
    "from sklearn.multiclass import OneVsRestClassifier\n",
    "from sklearn.metrics import jaccard_score, f1_score\n",
    "from nltk.corpus import stopwords\n",
    "\n"
   ]
  },
  {
   "cell_type": "code",
   "execution_count": 2,
   "metadata": {},
   "outputs": [
    {
     "name": "stdout",
     "output_type": "stream",
     "text": [
      "Requirement already satisfied: num2words in c:\\users\\kgu96\\anaconda3\\lib\\site-packages (0.5.10)\n",
      "Requirement already satisfied: docopt>=0.6.2 in c:\\users\\kgu96\\anaconda3\\lib\\site-packages (from num2words) (0.6.2)\n",
      "Note: you may need to restart the kernel to use updated packages.\n"
     ]
    }
   ],
   "source": [
    "pip install num2words\n"
   ]
  },
  {
   "cell_type": "code",
   "execution_count": 3,
   "metadata": {},
   "outputs": [],
   "source": [
    "from num2words import num2words\n"
   ]
  },
  {
   "cell_type": "code",
   "execution_count": 4,
   "metadata": {},
   "outputs": [],
   "source": [
    "data_folder_path = \"../Data/\"\n",
    "train_df = pd.read_csv(data_folder_path+\"train.tsv\",sep=\"\\t\")\n",
    "validation_df = pd.read_csv(data_folder_path+\"validation.tsv\",sep=\"\\t\")\n",
    "testing_df = pd.read_csv(data_folder_path+\"test_unlabaled.tsv\",sep=\"\\t\")"
   ]
  },
  {
   "cell_type": "code",
   "execution_count": 5,
   "metadata": {},
   "outputs": [],
   "source": [
    "arabic_stopwords=stopwords.words('arabic')\n",
    "train_df1 = train_df.copy()\n",
    "c = 0\n",
    "for article in train_df1['Article']:\n",
    "    words=article.split()\n",
    "    new_text =''\n",
    "    for word in words:\n",
    "        if(word not in arabic_stopwords):\n",
    "            new_text = new_text+\" \"+word\n",
    "    train_df1.loc[c,'Article'] = new_text\n",
    "    c+=1"
   ]
  },
  {
   "cell_type": "code",
   "execution_count": 6,
   "metadata": {},
   "outputs": [],
   "source": [
    "train_df2 = train_df1.copy()\n",
    "c = 0\n",
    "for article in train_df2['Article']:\n",
    "    words=article.split()\n",
    "    new_text =''\n",
    "    for word in words:\n",
    "        if(word.startswith('<') or (word.startswith('-'))):\n",
    "            continue\n",
    "        else:\n",
    "            new_text = new_text+\" \"+word\n",
    "    train_df2.loc[c,'Article'] = new_text\n",
    "    c+=1"
   ]
  },
  {
   "cell_type": "code",
   "execution_count": 7,
   "metadata": {},
   "outputs": [],
   "source": [
    "# show first 5 rows of the validation data\n",
    "validation_df1 = validation_df.copy()\n",
    "c = 0\n",
    "for article in validation_df1['Article']:\n",
    "    words=article.split()\n",
    "    new_text =''\n",
    "    for word in words:\n",
    "        if(word not in arabic_stopwords):\n",
    "            new_text = new_text+\" \"+word\n",
    "    validation_df1.loc[c,'Article'] = new_text\n",
    "    c+=1"
   ]
  },
  {
   "cell_type": "code",
   "execution_count": 8,
   "metadata": {},
   "outputs": [],
   "source": [
    "validation_df2 = validation_df1.copy()\n",
    "c = 0\n",
    "for article in validation_df2['Article']:\n",
    "    words=article.split()\n",
    "    new_text =''\n",
    "    for word in words:\n",
    "        if(word.startswith('<') or (word.startswith('-'))):\n",
    "            continue\n",
    "        else:\n",
    "            new_text = new_text+\" \"+word\n",
    "    validation_df2.loc[c,'Article'] = new_text\n",
    "    c+=1"
   ]
  },
  {
   "cell_type": "code",
   "execution_count": 9,
   "metadata": {},
   "outputs": [],
   "source": [
    "# show first 5 rows of the testing data\n",
    "testing_df1 = testing_df.copy()\n",
    "c = 0\n",
    "for article in testing_df1['Article']:\n",
    "    words=article.split()\n",
    "    new_text =''\n",
    "    for word in words:\n",
    "        if(word not in arabic_stopwords):\n",
    "            new_text = new_text+\" \"+word\n",
    "    testing_df1.loc[c,'Article'] = new_text\n",
    "    c+=1"
   ]
  },
  {
   "cell_type": "code",
   "execution_count": 10,
   "metadata": {},
   "outputs": [],
   "source": [
    "testing_df2 = testing_df1.copy()\n",
    "c = 0\n",
    "for article in testing_df2['Article']:\n",
    "    words=article.split()\n",
    "    new_text =''\n",
    "    for word in words:\n",
    "        if(word.startswith('<') or (word.startswith('-'))):\n",
    "            continue\n",
    "        else:\n",
    "            new_text = new_text+\" \"+word\n",
    "    testing_df2.loc[c,'Article'] = new_text\n",
    "    c+=1"
   ]
  },
  {
   "cell_type": "code",
   "execution_count": 11,
   "metadata": {},
   "outputs": [],
   "source": [
    "symbols = \"!\\\"#$%&()*+-./:;<=>?@[\\]^_`{|}~\\n\"\n",
    "for i in symbols:\n",
    "    for j in np.arange(len(train_df2)):\n",
    "        train_df2.loc[j,'Article'] =np.char.replace(train_df2.loc[j,'Article'], i, ' ').tolist()"
   ]
  },
  {
   "cell_type": "code",
   "execution_count": 12,
   "metadata": {},
   "outputs": [],
   "source": [
    "for i in symbols:\n",
    "    for j in np.arange(len(validation_df2)):\n",
    "        validation_df2.loc[j,'Article'] = np.char.replace(validation_df2.loc[j,'Article'], i, ' ').tolist()"
   ]
  },
  {
   "cell_type": "code",
   "execution_count": 13,
   "metadata": {},
   "outputs": [],
   "source": [
    "for i in symbols:\n",
    "    for j in np.arange(len(testing_df2)):\n",
    "        testing_df2.loc[j,'Article'] = np.char.replace(testing_df2.loc[j,'Article'], i, ' ').tolist()"
   ]
  },
  {
   "cell_type": "code",
   "execution_count": 14,
   "metadata": {},
   "outputs": [],
   "source": [
    "train_df3 = train_df2.copy()\n",
    "c = 0\n",
    "for article in train_df2['Article']:\n",
    "    words=article.split()\n",
    "    new_text =''\n",
    "    for word in words:\n",
    "        if(word.isnumeric()):\n",
    "            try:\n",
    "                word=float(word)\n",
    "                new_text = new_text+\" \"+num2words(word,lang='arabic')\n",
    "            except:\n",
    "                new_text = new_text+\" \"+word\n",
    "                \n",
    "        else:\n",
    "            new_text = new_text+\" \"+word\n",
    "    train_df3.loc[c,'Article'] = new_text\n",
    "    c+=1"
   ]
  },
  {
   "cell_type": "code",
   "execution_count": 15,
   "metadata": {},
   "outputs": [],
   "source": [
    "html_tags =[\"a\",\"abbr\",\"acronym\",\"address\",\"area\",\"b\",\"base\",\"bdo\",\"big\",\"blockquote\",\"body\",\"br\",\"button\",\"caption\",\"cite\",\"code\",\"col\",\"colgroup\",\"dd\",\"del\",\"dfn\",\"div\",\"dl\",\"DOCTYPE\",\"dt\",\"em\",\"fieldset\",\"form\",\"h1\",\"h2\",\"h3\",\"h4\",\"h5\",\"h6\",\"head\",\"html\",\"hr\",\"i\",\"img\",\"input\",\"ins\",\"kbd\",\"label\",\"legend\",\"li\",\"link\",\"map\",\"meta\",\"noscript\",\"object\",\"ol\",\"optgroup\",\"option\",\"p\",\"param\",\"pre\",\"q\",\"samp\",\"script\",\"select\",\"small\",\"span\",\"strong\",\"style\",\"sub\",\"sup\",\"table\",\"tbody\",\"td\",\"textarea\",\"tfoot\",\"th\",\"thead\",\"title\",\"tr\",\"tt\",\"ul\",\"var\"]\n",
    "train_df4 = train_df3.copy()\n",
    "c = 0\n",
    "for article in train_df4['Article']:\n",
    "    words=article.split()\n",
    "    new_text =''\n",
    "    for word in words:\n",
    "        if(word not in html_tags):\n",
    "            new_text = new_text+\" \"+word\n",
    "    train_df4.loc[c,'Article'] = new_text\n",
    "    c+=1"
   ]
  },
  {
   "cell_type": "code",
   "execution_count": 16,
   "metadata": {},
   "outputs": [],
   "source": [
    "non_connecting_letter = [\"و\" ,\"ذ\", \"د\" ,\"ز\" ,\"ر\",\"ا\",'ه','م' ]\n",
    "train_df5 = train_df4.copy()\n",
    "c = 0\n",
    "for article in train_df2['Article']:\n",
    "    words=article.split()\n",
    "    new_text =''\n",
    "    for word in words:\n",
    "        if(len(word)==1 & (word in non_connecting_letter)):\n",
    "            new_text = new_text+word  \n",
    "        elif(len(word)==1 & (word not in non_connecting_letter)):\n",
    "            new_text = new_text\n",
    "        else:\n",
    "            new_text = new_text+' '+word\n",
    "    train_df5.loc[c,'Article'] = new_text\n",
    "    c+=1"
   ]
  },
  {
   "cell_type": "code",
   "execution_count": 17,
   "metadata": {},
   "outputs": [],
   "source": [
    "validation_df3 = validation_df2.copy()\n",
    "c = 0\n",
    "for article in validation_df2['Article']:\n",
    "    words=article.split()\n",
    "    new_text =''\n",
    "    for word in words:\n",
    "        if(word.isnumeric()):\n",
    "            try:\n",
    "                word=float(word)\n",
    "                new_text = new_text+\" \"+num2words(word,lang='arabic')\n",
    "            except:\n",
    "                new_text = new_text+\" \"+word\n",
    "                \n",
    "        else:\n",
    "            new_text = new_text+\" \"+word\n",
    "    validation_df3.loc[c,'Article'] = new_text\n",
    "    c+=1"
   ]
  },
  {
   "cell_type": "code",
   "execution_count": 18,
   "metadata": {},
   "outputs": [],
   "source": [
    "testing_df3 = testing_df2.copy()\n",
    "c = 0\n",
    "for article in testing_df3['Article']:\n",
    "    words=article.split()\n",
    "    new_text =''\n",
    "    for word in words:\n",
    "        if(word.isnumeric()):\n",
    "            try:\n",
    "                word=float(word)\n",
    "                new_text = new_text+\" \"+num2words(word,lang='arabic')\n",
    "            except:\n",
    "                new_text = new_text+\" \"+word\n",
    "                \n",
    "        else:\n",
    "            new_text = new_text+\" \"+word\n",
    "    testing_df3.loc[c,'Article'] = new_text\n",
    "    c+=1"
   ]
  },
  {
   "cell_type": "code",
   "execution_count": null,
   "metadata": {},
   "outputs": [],
   "source": []
  },
  {
   "cell_type": "code",
   "execution_count": 19,
   "metadata": {},
   "outputs": [],
   "source": [
    "html_tags =[\"a\",\"abbr\",\"acronym\",\"address\",\"area\",\"b\",\"base\",\"bdo\",\"big\",\"blockquote\",\"body\",\"br\",\"button\",\"caption\",\"cite\",\"code\",\"col\",\"colgroup\",\"dd\",\"del\",\"dfn\",\"div\",\"dl\",\"DOCTYPE\",\"dt\",\"em\",\"fieldset\",\"form\",\"h1\",\"h2\",\"h3\",\"h4\",\"h5\",\"h6\",\"head\",\"html\",\"hr\",\"i\",\"img\",\"input\",\"ins\",\"kbd\",\"label\",\"legend\",\"li\",\"link\",\"map\",\"meta\",\"noscript\",\"object\",\"ol\",\"optgroup\",\"option\",\"p\",\"param\",\"pre\",\"q\",\"samp\",\"script\",\"select\",\"small\",\"span\",\"strong\",\"style\",\"sub\",\"sup\",\"table\",\"tbody\",\"td\",\"textarea\",\"tfoot\",\"th\",\"thead\",\"title\",\"tr\",\"tt\",\"ul\",\"var\"]\n",
    "validation_df4 = validation_df3.copy()\n",
    "c = 0\n",
    "for article in validation_df4['Article']:\n",
    "    words=article.split()\n",
    "    new_text =''\n",
    "    for word in words:\n",
    "        if(word not in html_tags):\n",
    "            new_text = new_text+\" \"+word\n",
    "    validation_df4.loc[c,'Article'] = new_text\n",
    "    c+=1"
   ]
  },
  {
   "cell_type": "code",
   "execution_count": 20,
   "metadata": {},
   "outputs": [],
   "source": [
    "html_tags =[\"a\",\"abbr\",\"acronym\",\"address\",\"area\",\"b\",\"base\",\"bdo\",\"big\",\"blockquote\",\"body\",\"br\",\"button\",\"caption\",\"cite\",\"code\",\"col\",\"colgroup\",\"dd\",\"del\",\"dfn\",\"div\",\"dl\",\"DOCTYPE\",\"dt\",\"em\",\"fieldset\",\"form\",\"h1\",\"h2\",\"h3\",\"h4\",\"h5\",\"h6\",\"head\",\"html\",\"hr\",\"i\",\"img\",\"input\",\"ins\",\"kbd\",\"label\",\"legend\",\"li\",\"link\",\"map\",\"meta\",\"noscript\",\"object\",\"ol\",\"optgroup\",\"option\",\"p\",\"param\",\"pre\",\"q\",\"samp\",\"script\",\"select\",\"small\",\"span\",\"strong\",\"style\",\"sub\",\"sup\",\"table\",\"tbody\",\"td\",\"textarea\",\"tfoot\",\"th\",\"thead\",\"title\",\"tr\",\"tt\",\"ul\",\"var\"]\n",
    "testing_df4 = testing_df3.copy()\n",
    "c = 0\n",
    "for article in testing_df4['Article']:\n",
    "    words=article.split()\n",
    "    new_text =''\n",
    "    for word in words:\n",
    "        if(word not in html_tags):\n",
    "            new_text = new_text+\" \"+word\n",
    "    testing_df4.loc[c,'Article'] = new_text\n",
    "    c+=1"
   ]
  },
  {
   "cell_type": "code",
   "execution_count": 21,
   "metadata": {},
   "outputs": [],
   "source": [
    "for i in np.arange(len(train_df4)):\n",
    "    for j in train_df4.loc[i,'Article']:\n",
    "        if(i=='،'):\n",
    "            train_df4.loc[i,'Article']=np.char.replace(train_df4.loc[i,'Article'], \"،\", \"\").tolist()"
   ]
  },
  {
   "cell_type": "code",
   "execution_count": 22,
   "metadata": {},
   "outputs": [],
   "source": [
    "for i in np.arange(len(validation_df4)):\n",
    "    for j in validation_df4.loc[i,'Article']:\n",
    "        if(i=='،'):\n",
    "            validation_df4.loc[i,'Article']=np.char.replace(validation_df4.loc[i,'Article'], \"،\", \"\").tolist()"
   ]
  },
  {
   "cell_type": "code",
   "execution_count": 23,
   "metadata": {},
   "outputs": [],
   "source": [
    "for i in np.arange(len(testing_df4)):\n",
    "    for j in testing_df4.loc[i,'Article']:\n",
    "        if(i=='،'):\n",
    "            testing_df4.loc[i,'Article']=np.char.replace(testing_df4.loc[i,'Article'], \"،\", \"\").tolist()"
   ]
  },
  {
   "cell_type": "code",
   "execution_count": null,
   "metadata": {},
   "outputs": [],
   "source": []
  },
  {
   "cell_type": "code",
   "execution_count": 25,
   "metadata": {},
   "outputs": [],
   "source": [
    "train_df5.to_csv(r'C:\\Users\\kgu96\\Desktop\\nlp\\paragraph classifying\\JUST-Mowjaz-Competition-main\\train.csv',index=False)"
   ]
  },
  {
   "cell_type": "code",
   "execution_count": 27,
   "metadata": {},
   "outputs": [],
   "source": [
    "non_connecting_letter = [\"و\" ,\"ذ\", \"د\" ,\"ز\" ,\"ر\",\"ا\",'ه','م' ]\n",
    "validation_df5 = validation_df4.copy()\n",
    "c = 0\n",
    "for article in validation_df5['Article']:\n",
    "    words=article.split()\n",
    "    new_text =''\n",
    "    for word in words:\n",
    "        if(len(word)==1 & (word in non_connecting_letter)):\n",
    "            new_text = new_text+word  \n",
    "        elif(len(word)==1 & (word not in non_connecting_letter)):\n",
    "            new_text = new_text\n",
    "        else:\n",
    "            new_text = new_text+' '+word\n",
    "    validation_df5.loc[c,'Article'] = new_text\n",
    "    c+=1"
   ]
  },
  {
   "cell_type": "code",
   "execution_count": 28,
   "metadata": {},
   "outputs": [],
   "source": [
    "validation_df5.to_csv(r'C:\\Users\\kgu96\\Desktop\\nlp\\paragraph classifying\\JUST-Mowjaz-Competition-main\\validation.csv',index=False)"
   ]
  },
  {
   "cell_type": "code",
   "execution_count": 29,
   "metadata": {},
   "outputs": [],
   "source": [
    "non_connecting_letter = [\"و\" ,\"ذ\", \"د\" ,\"ز\" ,\"ر\",\"ا\",'ه','م' ]\n",
    "testing_df5 = testing_df4.copy()\n",
    "c = 0\n",
    "for article in testing_df5['Article']:\n",
    "    words=article.split()\n",
    "    new_text =''\n",
    "    for word in words:\n",
    "        if(len(word)==1 & (word in non_connecting_letter)):\n",
    "            new_text = new_text+word  \n",
    "        elif(len(word)==1 & (word not in non_connecting_letter)):\n",
    "            new_text = new_text\n",
    "        else:\n",
    "            new_text = new_text+' '+word\n",
    "    testing_df5.loc[c,'Article'] = new_text\n",
    "    c+=1"
   ]
  },
  {
   "cell_type": "code",
   "execution_count": 30,
   "metadata": {},
   "outputs": [],
   "source": [
    "testing_df5.to_csv(r'C:\\Users\\kgu96\\Desktop\\nlp\\paragraph classifying\\JUST-Mowjaz-Competition-main\\test.csv',index=False)"
   ]
  },
  {
   "cell_type": "code",
   "execution_count": null,
   "metadata": {},
   "outputs": [],
   "source": []
  },
  {
   "cell_type": "code",
   "execution_count": null,
   "metadata": {},
   "outputs": [],
   "source": []
  }
 ],
 "metadata": {
  "kernelspec": {
   "display_name": "Python 3",
   "language": "python",
   "name": "python3"
  },
  "language_info": {
   "codemirror_mode": {
    "name": "ipython",
    "version": 3
   },
   "file_extension": ".py",
   "mimetype": "text/x-python",
   "name": "python",
   "nbconvert_exporter": "python",
   "pygments_lexer": "ipython3",
   "version": "3.8.5"
  }
 },
 "nbformat": 4,
 "nbformat_minor": 4
}
